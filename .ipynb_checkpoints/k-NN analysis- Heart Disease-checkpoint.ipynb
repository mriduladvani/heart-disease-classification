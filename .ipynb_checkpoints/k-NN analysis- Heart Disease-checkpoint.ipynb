{
 "cells": [
  {
   "cell_type": "code",
   "execution_count": 1,
   "metadata": {},
   "outputs": [
    {
     "name": "stdout",
     "output_type": "stream",
     "text": [
      "Populating the interactive namespace from numpy and matplotlib\n"
     ]
    }
   ],
   "source": [
    "import pandas as pd\n",
    "import matplotlib.pyplot as plt\n",
    "import numpy as np\n",
    "import scipy.stats as stats\n",
    "import seaborn as sns\n",
    "from matplotlib import rcParams\n",
    "%matplotlib inline \n",
    "%pylab inline\n",
    "import math\n",
    "import operator"
   ]
  },
  {
   "cell_type": "code",
   "execution_count": 2,
   "metadata": {},
   "outputs": [
    {
     "name": "stdout",
     "output_type": "stream",
     "text": [
      "298\n"
     ]
    }
   ],
   "source": [
    "training_ds= pd.read_csv('C:/Users/mridul/Desktop/heart-disease-classification/heart- training.csv')\n",
    "print(len(training_ds))\n",
    "testing_ds= pd.read_csv('C:/Users/mridul/Desktop/heart-disease-classification/heart- testing.csv')"
   ]
  },
  {
   "cell_type": "code",
   "execution_count": 3,
   "metadata": {},
   "outputs": [],
   "source": [
    "#method to calculate euclidian distance (takes testing data, training data and total number of columns as parameters)\n",
    "#length: the total number of columns in each data row\n",
    "def euclidianDistance(data1, data2, length):\n",
    "    d=0\n",
    "    for x in range(length):\n",
    "        d= d+ np.square(data1[x] - data2.iloc[x])\n",
    "    return np.sqrt(d)\n",
    "#method to give the response for k-NN respective to k and each iLoc of test_data\n",
    "def knn(training_data, test_data, k, value):\n",
    "    #k: the closest neighbours on which the analysis is being done\n",
    "    distance={}\n",
    "    for x in range(training_data.shape[0]):\n",
    "        distance[x]= euclidianDistance(training_data.iloc[x], test_data, test_data.shape[0])[value]\n",
    "    #distance is being calculated for the entire training data set but the closest k would be chosen    \n",
    "    sorted_distance= sorted(distance.items(), key= operator.itemgetter(1), reverse=False)\n",
    "    nearest_neighbour= []\n",
    "    \n",
    "    for x in range(k):\n",
    "        nearest_neighbour.append(sorted_distance[x])\n",
    "    classVotes={}\n",
    "    for x in range(len(nearest_neighbour)):\n",
    "        response= training_data.iloc[nearest_neighbour[x][0]][-1]\n",
    "    \n",
    "        if response in classVotes:\n",
    "            classVotes[response]+= 1\n",
    "        else:\n",
    "            classVotes[response]= 1\n",
    "        \n",
    "    sortedVotes= sorted(classVotes.items(), key= operator.itemgetter(1), reverse= True)    \n",
    "    print(classVotes)\n",
    "    print(sortedVotes[0][0])\n",
    "    "
   ]
  },
  {
   "cell_type": "code",
   "execution_count": 5,
   "metadata": {
    "scrolled": false
   },
   "outputs": [
    {
     "name": "stdout",
     "output_type": "stream",
     "text": [
      "{1.0: 3, 0.0: 2}\n",
      "1.0\n",
      "{1.0: 4, 0.0: 1}\n",
      "1.0\n",
      "{1.0: 5}\n",
      "1.0\n",
      "{0.0: 3, 1.0: 2}\n",
      "0.0\n",
      "{1.0: 3, 0.0: 2}\n",
      "1.0\n"
     ]
    }
   ],
   "source": [
    "k=5\n",
    "#print(pd.DataFrame(testing_ds.iloc[1]))\n",
    "#test= testing_ds.iloc[2]\n",
    "#print(test)\n",
    "#print(training_ds.columns.tolist())\n",
    "#print(testing_ds.columns.tolist())\n",
    "#print(type(test))\n",
    "for x in range (len(testing_ds)):\n",
    "    knn(training_ds, pd.DataFrame(testing_ds.iloc[x]), k, x)\n",
    " "
   ]
  },
  {
   "cell_type": "code",
   "execution_count": null,
   "metadata": {},
   "outputs": [],
   "source": []
  },
  {
   "cell_type": "code",
   "execution_count": null,
   "metadata": {},
   "outputs": [],
   "source": []
  }
 ],
 "metadata": {
  "kernelspec": {
   "display_name": "Python 3",
   "language": "python",
   "name": "python3"
  },
  "language_info": {
   "codemirror_mode": {
    "name": "ipython",
    "version": 3
   },
   "file_extension": ".py",
   "mimetype": "text/x-python",
   "name": "python",
   "nbconvert_exporter": "python",
   "pygments_lexer": "ipython3",
   "version": "3.7.0"
  }
 },
 "nbformat": 4,
 "nbformat_minor": 2
}
