{
 "cells": [
  {
   "cell_type": "code",
   "execution_count": 218,
   "metadata": {},
   "outputs": [
    {
     "name": "stdout",
     "output_type": "stream",
     "text": [
      "Populating the interactive namespace from numpy and matplotlib\n"
     ]
    }
   ],
   "source": [
    "import pandas as pd\n",
    "import matplotlib.pyplot as plt\n",
    "import numpy as np\n",
    "import scipy.stats as stats\n",
    "import seaborn as sns\n",
    "from matplotlib import rcParams\n",
    "%matplotlib inline \n",
    "%pylab inline\n",
    "import math\n",
    "import operator"
   ]
  },
  {
   "cell_type": "code",
   "execution_count": 219,
   "metadata": {},
   "outputs": [
    {
     "name": "stdout",
     "output_type": "stream",
     "text": [
      "295\n"
     ]
    }
   ],
   "source": [
    "training_ds= pd.read_csv('C:/Users/mridul/Desktop/heart-disease-classification/heart- training.csv')\n",
    "print(len(training_ds))\n",
    "testing_ds= pd.read_csv('C:/Users/mridul/Desktop/heart-disease-classification/heart- testing.csv')"
   ]
  },
  {
   "cell_type": "code",
   "execution_count": 225,
   "metadata": {},
   "outputs": [],
   "source": [
    "#method to calculate euclidian distance (takes testing data, training data and total number of columns as parameters)\n",
    "#length: the total number of columns in each data row\n",
    "def chebyshevDistance(data1, data2, length, value):\n",
    "    d=0\n",
    "    array= []\n",
    "    all_val=[]\n",
    "    for x in range(length-1):\n",
    "        array.append(abs(data1[x] - data2.iloc[x]))\n",
    "    for y in range(len(array)):\n",
    "            all_val.append(array[y][value])\n",
    "    return np.amax(all_val)\n",
    "#method to give the response for k-NN respective to k and each iLoc of test_data\n",
    "def knn(training_data, test_data, k, value):\n",
    "    #k: the closest neighbours on which the analysis is being done\n",
    "    distance={}\n",
    "    for x in range(training_data.shape[0]):\n",
    "        distance[x]= chebyshevDistance(training_data.iloc[x], test_data, test_data.shape[0], value)\n",
    "    #distance is being calculated for the entire training data set but the closest k would be chosen    \n",
    "    sorted_distance= sorted(distance.items(), key= operator.itemgetter(1), reverse=False)\n",
    "    nearest_neighbour= []\n",
    "    for x in range(k):\n",
    "        nearest_neighbour.append(sorted_distance[x])\n",
    "    classVotes={}\n",
    "    for x in range(len(nearest_neighbour)):\n",
    "        response= training_data.iloc[nearest_neighbour[x][0]][-1] \n",
    "        if response in classVotes:\n",
    "            classVotes[response]+= 1\n",
    "        else:\n",
    "            classVotes[response]= 1\n",
    "        \n",
    "    sortedVotes= sorted(classVotes.items(), key= operator.itemgetter(1), reverse= True)    \n",
    "    print(classVotes)\n",
    "    print(sortedVotes[0][0])\n"
   ]
  },
  {
   "cell_type": "code",
   "execution_count": 226,
   "metadata": {
    "scrolled": true
   },
   "outputs": [
    {
     "name": "stdout",
     "output_type": "stream",
     "text": [
      "{1.0: 25, 0.0: 20}\n",
      "1.0\n",
      "{1.0: 32, 0.0: 13}\n",
      "1.0\n",
      "{1.0: 32, 0.0: 13}\n",
      "1.0\n",
      "{0.0: 20, 1.0: 25}\n",
      "1.0\n",
      "{1.0: 24, 0.0: 21}\n",
      "1.0\n",
      "{1.0: 36, 0.0: 9}\n",
      "1.0\n",
      "{1.0: 32, 0.0: 13}\n",
      "1.0\n",
      "{0.0: 35, 1.0: 10}\n",
      "0.0\n",
      "{0.0: 24, 1.0: 21}\n",
      "0.0\n"
     ]
    }
   ],
   "source": [
    "k=45\n",
    "\n",
    "for x in range (len(testing_ds)):\n",
    "    knn(training_ds, pd.DataFrame(testing_ds.iloc[x]), k, x)\n",
    " "
   ]
  },
  {
   "cell_type": "code",
   "execution_count": null,
   "metadata": {},
   "outputs": [],
   "source": []
  }
 ],
 "metadata": {
  "kernelspec": {
   "display_name": "Python 3",
   "language": "python",
   "name": "python3"
  },
  "language_info": {
   "codemirror_mode": {
    "name": "ipython",
    "version": 3
   },
   "file_extension": ".py",
   "mimetype": "text/x-python",
   "name": "python",
   "nbconvert_exporter": "python",
   "pygments_lexer": "ipython3",
   "version": "3.7.0"
  }
 },
 "nbformat": 4,
 "nbformat_minor": 2
}
